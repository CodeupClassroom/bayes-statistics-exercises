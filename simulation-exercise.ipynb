{
 "cells": [
  {
   "cell_type": "markdown",
   "metadata": {},
   "source": [
    "# Simulation Exercise"
   ]
  },
  {
   "cell_type": "code",
   "execution_count": 1,
   "metadata": {},
   "outputs": [],
   "source": [
    "import numpy as np\n",
    "import pandas as pd\n",
    "\n",
    "np.random.seed(3)"
   ]
  },
  {
   "cell_type": "markdown",
   "metadata": {},
   "source": [
    "## P(doubles when rolling 2 dice)"
   ]
  },
  {
   "cell_type": "code",
   "execution_count": 12,
   "metadata": {},
   "outputs": [
    {
     "data": {
      "text/plain": [
       "array([[5, 5],\n",
       "       [2, 1],\n",
       "       [1, 4],\n",
       "       ...,\n",
       "       [3, 3],\n",
       "       [6, 5],\n",
       "       [2, 1]])"
      ]
     },
     "execution_count": 12,
     "metadata": {},
     "output_type": "execute_result"
    }
   ],
   "source": [
    "rolls = np.random.randint(1, 7, (10_000, 2))\n",
    "rolls"
   ]
  },
  {
   "cell_type": "code",
   "execution_count": 11,
   "metadata": {},
   "outputs": [
    {
     "data": {
      "text/plain": [
       "0.1711"
      ]
     },
     "execution_count": 11,
     "metadata": {},
     "output_type": "execute_result"
    }
   ],
   "source": [
    "(rolls[:, 0] == rolls[:, 1]).mean()"
   ]
  },
  {
   "cell_type": "markdown",
   "metadata": {},
   "source": [
    "## P(3 heads in 8 coin tosses)"
   ]
  },
  {
   "cell_type": "code",
   "execution_count": 13,
   "metadata": {},
   "outputs": [
    {
     "data": {
      "text/plain": [
       "array([['Heads', 'Heads', 'Tails', ..., 'Tails', 'Tails', 'Tails'],\n",
       "       ['Heads', 'Heads', 'Heads', ..., 'Heads', 'Heads', 'Tails'],\n",
       "       ['Tails', 'Heads', 'Heads', ..., 'Heads', 'Tails', 'Heads'],\n",
       "       ...,\n",
       "       ['Heads', 'Tails', 'Heads', ..., 'Heads', 'Tails', 'Tails'],\n",
       "       ['Heads', 'Tails', 'Tails', ..., 'Tails', 'Heads', 'Heads'],\n",
       "       ['Heads', 'Tails', 'Heads', ..., 'Tails', 'Tails', 'Tails']],\n",
       "      dtype='<U5')"
      ]
     },
     "execution_count": 13,
     "metadata": {},
     "output_type": "execute_result"
    }
   ],
   "source": [
    "flips = np.random.choice(['Heads', 'Tails'], (10_000, 8))\n",
    "flips"
   ]
  },
  {
   "cell_type": "code",
   "execution_count": 16,
   "metadata": {},
   "outputs": [
    {
     "data": {
      "text/plain": [
       "array([ True, False, False, ...,  True,  True, False])"
      ]
     },
     "execution_count": 16,
     "metadata": {},
     "output_type": "execute_result"
    }
   ],
   "source": [
    "((flips == 'Heads').sum(axis=1) == 3)"
   ]
  },
  {
   "cell_type": "code",
   "execution_count": 17,
   "metadata": {},
   "outputs": [
    {
     "data": {
      "text/plain": [
       "0.6353"
      ]
     },
     "execution_count": 17,
     "metadata": {},
     "output_type": "execute_result"
    }
   ],
   "source": [
    "((flips == 'Heads').sum(axis=1) > 3).mean()"
   ]
  },
  {
   "cell_type": "markdown",
   "metadata": {},
   "source": [
    "## 2 DS students on billboards"
   ]
  },
  {
   "cell_type": "code",
   "execution_count": 25,
   "metadata": {},
   "outputs": [
    {
     "data": {
      "text/plain": [
       "[1, 2, 3, 1, 2, 3, 1, 2, 3, 1, 2, 3]"
      ]
     },
     "execution_count": 25,
     "metadata": {},
     "output_type": "execute_result"
    }
   ],
   "source": [
    "[1, 2, 3] * 4"
   ]
  },
  {
   "cell_type": "code",
   "execution_count": 26,
   "metadata": {},
   "outputs": [
    {
     "data": {
      "text/plain": [
       "[1, 2, 3, 4]"
      ]
     },
     "execution_count": 26,
     "metadata": {},
     "output_type": "execute_result"
    }
   ],
   "source": [
    "[1, 2] + [3, 4]"
   ]
  },
  {
   "cell_type": "code",
   "execution_count": 18,
   "metadata": {},
   "outputs": [
    {
     "data": {
      "text/plain": [
       "['Web Dev', 'Web Dev', 'Web Dev', 'Data Science']"
      ]
     },
     "execution_count": 18,
     "metadata": {},
     "output_type": "execute_result"
    }
   ],
   "source": [
    "options = ['Web Dev'] * 3 + ['Data Science']\n",
    "options"
   ]
  },
  {
   "cell_type": "code",
   "execution_count": 36,
   "metadata": {},
   "outputs": [
    {
     "data": {
      "text/plain": [
       "0.0011"
      ]
     },
     "execution_count": 36,
     "metadata": {},
     "output_type": "execute_result"
    }
   ],
   "source": [
    "(np.random.choice(options, (10_000, 5)) == 'Data Science').prod(axis=1).mean()"
   ]
  },
  {
   "cell_type": "code",
   "execution_count": 22,
   "metadata": {},
   "outputs": [
    {
     "data": {
      "text/plain": [
       "array([False, False, False, ..., False, False, False])"
      ]
     },
     "execution_count": 22,
     "metadata": {},
     "output_type": "execute_result"
    }
   ],
   "source": [
    "(np.random.choice(options, (10_000, 2)) == 'Data Science').sum(axis=1) == 2"
   ]
  },
  {
   "cell_type": "code",
   "execution_count": 23,
   "metadata": {},
   "outputs": [
    {
     "data": {
      "text/plain": [
       "0.058"
      ]
     },
     "execution_count": 23,
     "metadata": {},
     "output_type": "execute_result"
    }
   ],
   "source": [
    "(((np.random.choice(options, (10_000, 2)) == 'Data Science').sum(axis=1)) == 2).mean()"
   ]
  },
  {
   "cell_type": "markdown",
   "metadata": {},
   "source": [
    "## Poptarts"
   ]
  },
  {
   "cell_type": "code",
   "execution_count": 56,
   "metadata": {},
   "outputs": [
    {
     "data": {
      "text/plain": [
       "array([[-0.,  5.,  4.,  1.,  5.],\n",
       "       [ 5.,  2.,  5.,  4.,  1.],\n",
       "       [ 2.,  0.,  2.,  5.,  2.],\n",
       "       ...,\n",
       "       [ 2.,  1.,  2.,  1.,  3.],\n",
       "       [ 3.,  0., -1.,  1.,  2.],\n",
       "       [ 1.,  3.,  1.,  5.,  1.]])"
      ]
     },
     "execution_count": 56,
     "metadata": {},
     "output_type": "execute_result"
    }
   ],
   "source": [
    "n = 10_000\n",
    "\n",
    "pt_consumption = np.round(np.random.normal(3, 1.5, (n, 5)))\n",
    "pt_consumption"
   ]
  },
  {
   "cell_type": "code",
   "execution_count": 65,
   "metadata": {},
   "outputs": [
    {
     "data": {
      "text/plain": [
       "array([[-0.,  5.,  4.,  1.,  5.],\n",
       "       [ 5.,  2.,  5.,  4.,  1.],\n",
       "       [ 2.,  0.,  2.,  5.,  2.],\n",
       "       ...,\n",
       "       [ 2.,  1.,  2.,  1.,  3.],\n",
       "       [ 3.,  0.,  0.,  1.,  2.],\n",
       "       [ 1.,  3.,  1.,  5.,  1.]])"
      ]
     },
     "execution_count": 65,
     "metadata": {},
     "output_type": "execute_result"
    }
   ],
   "source": [
    "np.where(pt_consumption < 0, 0, pt_consumption)"
   ]
  },
  {
   "cell_type": "code",
   "execution_count": 66,
   "metadata": {},
   "outputs": [
    {
     "data": {
      "text/plain": [
       "0.6709"
      ]
     },
     "execution_count": 66,
     "metadata": {},
     "output_type": "execute_result"
    }
   ],
   "source": [
    "pt_consumption = np.where(pt_consumption < 0, 0, pt_consumption)\n",
    "(pt_consumption.sum(axis=1) < 17).mean()"
   ]
  },
  {
   "cell_type": "markdown",
   "metadata": {},
   "source": [
    "## compare heights"
   ]
  },
  {
   "cell_type": "code",
   "execution_count": 70,
   "metadata": {},
   "outputs": [
    {
     "data": {
      "text/plain": [
       "array([169.80408143, 169.52673834, 181.07761992, ..., 169.12308228,\n",
       "       166.75473152, 164.6022895 ])"
      ]
     },
     "execution_count": 70,
     "metadata": {},
     "output_type": "execute_result"
    }
   ],
   "source": [
    "n = 10_000\n",
    "\n",
    "male_heights = np.random.normal(178, 8, n)\n",
    "female_heights = np.random.normal(170, 6, n)\n",
    "\n",
    "male_heights\n",
    "female_heights"
   ]
  },
  {
   "cell_type": "code",
   "execution_count": 6,
   "metadata": {},
   "outputs": [
    {
     "data": {
      "text/plain": [
       "0.2152"
      ]
     },
     "execution_count": 6,
     "metadata": {},
     "output_type": "execute_result"
    }
   ],
   "source": [
    "(female_heights > male_heights).mean()"
   ]
  },
  {
   "cell_type": "markdown",
   "metadata": {},
   "source": [
    "## anaconda install"
   ]
  },
  {
   "cell_type": "code",
   "execution_count": null,
   "metadata": {},
   "outputs": [],
   "source": [
    "n = 10_000\n",
    "\n",
    "p_corruption = 1/250"
   ]
  },
  {
   "cell_type": "code",
   "execution_count": 80,
   "metadata": {},
   "outputs": [
    {
     "data": {
      "text/plain": [
       "0.8191"
      ]
     },
     "execution_count": 80,
     "metadata": {},
     "output_type": "execute_result"
    }
   ],
   "source": [
    "((np.random.random((n, 50)) < p_corruption).sum(axis=1) == 0).mean()"
   ]
  },
  {
   "cell_type": "code",
   "execution_count": 85,
   "metadata": {},
   "outputs": [
    {
     "data": {
      "text/plain": [
       "0.6687"
      ]
     },
     "execution_count": 85,
     "metadata": {},
     "output_type": "execute_result"
    }
   ],
   "source": [
    "((np.random.random((n, 100)) <= p_corruption).sum(axis=1) == 0).mean()"
   ]
  },
  {
   "cell_type": "code",
   "execution_count": 86,
   "metadata": {},
   "outputs": [
    {
     "data": {
      "text/plain": [
       "0.4601"
      ]
     },
     "execution_count": 86,
     "metadata": {},
     "output_type": "execute_result"
    }
   ],
   "source": [
    "# 1 - ((np.random.random((n, 50)) < p_corruption).sum(axis=1) > 0).mean()\n",
    "# 1 - ((np.random.random((n, 100)) < p_corruption).sum(axis=1) > 0).mean()\n",
    "\n",
    "\n",
    "\n",
    "((np.random.random((n, 150)) < p_corruption).sum(axis=1) > 0).mean()\n",
    "\n",
    "\n",
    "\n",
    "# 1 - ((np.random.random((n, 450)) < p_corruption).sum(axis=1) > 0).mean()"
   ]
  },
  {
   "cell_type": "code",
   "execution_count": 103,
   "metadata": {},
   "outputs": [
    {
     "data": {
      "text/plain": [
       "0.1629"
      ]
     },
     "execution_count": 103,
     "metadata": {},
     "output_type": "execute_result"
    }
   ],
   "source": [
    "# alternate way to simulate success vs corrupted download\n",
    "downloads = np.random.choice(['Download Success', 'Corrupted!'], (n, 450), p=[249/250, 1/250])\n",
    "\n",
    "((downloads == 'Corrupted!').sum(axis=1) == 0).mean()"
   ]
  },
  {
   "cell_type": "markdown",
   "metadata": {},
   "source": [
    "## food trucks"
   ]
  },
  {
   "cell_type": "code",
   "execution_count": 104,
   "metadata": {},
   "outputs": [],
   "source": [
    "n = 10_000\n",
    "p_food_truck = .7\n",
    "p_no_food_truck = 1 - p_food_truck"
   ]
  },
  {
   "cell_type": "code",
   "execution_count": 114,
   "metadata": {},
   "outputs": [
    {
     "data": {
      "text/plain": [
       "array([['Food Truck', 'Food Truck', 'No Food Truck'],\n",
       "       ['Food Truck', 'No Food Truck', 'Food Truck'],\n",
       "       ['Food Truck', 'Food Truck', 'Food Truck'],\n",
       "       ...,\n",
       "       ['Food Truck', 'Food Truck', 'Food Truck'],\n",
       "       ['Food Truck', 'Food Truck', 'No Food Truck'],\n",
       "       ['Food Truck', 'Food Truck', 'Food Truck']], dtype='<U13')"
      ]
     },
     "execution_count": 114,
     "metadata": {},
     "output_type": "execute_result"
    }
   ],
   "source": [
    "lunches = np.random.choice(['Food Truck', 'No Food Truck'], (n, 3), p=[p_food_truck, p_no_food_truck])\n",
    "lunches"
   ]
  },
  {
   "cell_type": "code",
   "execution_count": 117,
   "metadata": {},
   "outputs": [
    {
     "data": {
      "text/plain": [
       "array([[False, False,  True],\n",
       "       [False,  True, False],\n",
       "       [False, False, False],\n",
       "       ...,\n",
       "       [False, False, False],\n",
       "       [False, False,  True],\n",
       "       [False, False, False]])"
      ]
     },
     "execution_count": 117,
     "metadata": {},
     "output_type": "execute_result"
    }
   ],
   "source": [
    "lunches == 'No Food Truck'"
   ]
  },
  {
   "cell_type": "code",
   "execution_count": 119,
   "metadata": {},
   "outputs": [
    {
     "data": {
      "text/plain": [
       "0.0277"
      ]
     },
     "execution_count": 119,
     "metadata": {},
     "output_type": "execute_result"
    }
   ],
   "source": [
    "(lunches == 'No Food Truck').all(axis=1).mean()"
   ]
  },
  {
   "cell_type": "code",
   "execution_count": 120,
   "metadata": {},
   "outputs": [
    {
     "data": {
      "text/plain": [
       "array([['No Food Truck', 'No Food Truck', 'Food Truck', 'Food Truck',\n",
       "        'Food Truck'],\n",
       "       ['Food Truck', 'Food Truck', 'No Food Truck', 'Food Truck',\n",
       "        'Food Truck'],\n",
       "       ['Food Truck', 'Food Truck', 'Food Truck', 'No Food Truck',\n",
       "        'Food Truck'],\n",
       "       ...,\n",
       "       ['Food Truck', 'Food Truck', 'No Food Truck', 'No Food Truck',\n",
       "        'Food Truck'],\n",
       "       ['Food Truck', 'Food Truck', 'Food Truck', 'Food Truck',\n",
       "        'No Food Truck'],\n",
       "       ['Food Truck', 'No Food Truck', 'Food Truck', 'Food Truck',\n",
       "        'Food Truck']], dtype='<U13')"
      ]
     },
     "execution_count": 120,
     "metadata": {},
     "output_type": "execute_result"
    }
   ],
   "source": [
    "lunches = np.random.choice(['Food Truck', 'No Food Truck'], (n, 5), p=[p_food_truck, p_no_food_truck])\n",
    "lunches"
   ]
  },
  {
   "cell_type": "code",
   "execution_count": 123,
   "metadata": {},
   "outputs": [
    {
     "data": {
      "text/plain": [
       "0.9978"
      ]
     },
     "execution_count": 123,
     "metadata": {},
     "output_type": "execute_result"
    }
   ],
   "source": [
    "(lunches == 'Food Truck').any(axis=1).mean()"
   ]
  },
  {
   "cell_type": "code",
   "execution_count": 8,
   "metadata": {},
   "outputs": [
    {
     "data": {
      "text/plain": [
       "0.998"
      ]
     },
     "execution_count": 8,
     "metadata": {},
     "output_type": "execute_result"
    }
   ],
   "source": [
    "# ((np.random.random((n, 3)) < p_food_truck).sum(axis=1) == 0).mean()\n",
    "# ((np.random.random((n, 5)) < p_food_truck).sum(axis=1) > 0).mean()"
   ]
  },
  {
   "cell_type": "code",
   "execution_count": null,
   "metadata": {},
   "outputs": [],
   "source": [
    "np.random.choice([0, 0, 0, 1, 1, 1, 1, 1, 1, 1])"
   ]
  },
  {
   "cell_type": "markdown",
   "metadata": {},
   "source": [
    "## birthdays"
   ]
  },
  {
   "cell_type": "code",
   "execution_count": 125,
   "metadata": {},
   "outputs": [
    {
     "data": {
      "text/plain": [
       "array([284, 108, 199, 291,  78, 302, 294, 336, 297, 244, 144, 235, 205,\n",
       "        25, 152,  10, 286,  94, 270,  50, 162,  91, 226])"
      ]
     },
     "execution_count": 125,
     "metadata": {},
     "output_type": "execute_result"
    }
   ],
   "source": [
    "row = np.random.choice(range(365), 23)\n",
    "row"
   ]
  },
  {
   "cell_type": "code",
   "execution_count": 127,
   "metadata": {},
   "outputs": [
    {
     "data": {
      "text/plain": [
       "array([1, 2, 3])"
      ]
     },
     "execution_count": 127,
     "metadata": {},
     "output_type": "execute_result"
    }
   ],
   "source": [
    "np.unique(np.array([1, 2, 3, 2, 2, 2]))"
   ]
  },
  {
   "cell_type": "code",
   "execution_count": 168,
   "metadata": {},
   "outputs": [
    {
     "data": {
      "text/plain": [
       "False"
      ]
     },
     "execution_count": 168,
     "metadata": {},
     "output_type": "execute_result"
    }
   ],
   "source": [
    "np.random.choice(range(365), 23)\n",
    "np.unique(row).size < 23"
   ]
  },
  {
   "cell_type": "code",
   "execution_count": 170,
   "metadata": {},
   "outputs": [
    {
     "data": {
      "text/plain": [
       "array([[ 55, 280, 307, ...,  10, 279, 204],\n",
       "       [ 69, 259,  32, ..., 110, 282, 227],\n",
       "       [ 19, 139, 231, ...,  81,  90, 287],\n",
       "       ...,\n",
       "       [205, 105,   4, ..., 105, 260, 245],\n",
       "       [121, 117, 279, ..., 161,  12,  75],\n",
       "       [179,  46, 111, ...,  58, 137, 309]])"
      ]
     },
     "execution_count": 170,
     "metadata": {},
     "output_type": "execute_result"
    }
   ],
   "source": [
    "birthdays = np.random.choice(range(365), (n_sims, n_people))\n",
    "birthdays"
   ]
  },
  {
   "cell_type": "code",
   "execution_count": 171,
   "metadata": {},
   "outputs": [
    {
     "data": {
      "text/plain": [
       "[22,\n",
       " 23,\n",
       " 23,\n",
       " 22,\n",
       " 22,\n",
       " 23,\n",
       " 23,\n",
       " 22,\n",
       " 22,\n",
       " 23,\n",
       " 22,\n",
       " 23,\n",
       " 23,\n",
       " 23,\n",
       " 21,\n",
       " 22,\n",
       " 22,\n",
       " 23,\n",
       " 22,\n",
       " 23,\n",
       " 22,\n",
       " 23,\n",
       " 23,\n",
       " 22,\n",
       " 22,\n",
       " 22,\n",
       " 23,\n",
       " 22,\n",
       " 21,\n",
       " 22,\n",
       " 23,\n",
       " 22,\n",
       " 23,\n",
       " 21,\n",
       " 22,\n",
       " 23,\n",
       " 22,\n",
       " 23,\n",
       " 20,\n",
       " 23,\n",
       " 22,\n",
       " 22,\n",
       " 20,\n",
       " 23,\n",
       " 23,\n",
       " 23,\n",
       " 23,\n",
       " 22,\n",
       " 23,\n",
       " 22,\n",
       " 22,\n",
       " 21,\n",
       " 22,\n",
       " 23,\n",
       " 22,\n",
       " 23,\n",
       " 22,\n",
       " 22,\n",
       " 23,\n",
       " 22,\n",
       " 22,\n",
       " 23,\n",
       " 22,\n",
       " 23,\n",
       " 21,\n",
       " 23,\n",
       " 23,\n",
       " 22,\n",
       " 23,\n",
       " 21,\n",
       " 22,\n",
       " 23,\n",
       " 23,\n",
       " 23,\n",
       " 23,\n",
       " 23,\n",
       " 23,\n",
       " 22,\n",
       " 22,\n",
       " 22,\n",
       " 21,\n",
       " 22,\n",
       " 23,\n",
       " 22,\n",
       " 23,\n",
       " 23,\n",
       " 23,\n",
       " 21,\n",
       " 22,\n",
       " 23,\n",
       " 21,\n",
       " 23,\n",
       " 22,\n",
       " 23,\n",
       " 22,\n",
       " 23,\n",
       " 22,\n",
       " 22,\n",
       " 22,\n",
       " 23,\n",
       " 23,\n",
       " 22,\n",
       " 21,\n",
       " 22,\n",
       " 22,\n",
       " 23,\n",
       " 21,\n",
       " 22,\n",
       " 23,\n",
       " 22,\n",
       " 20,\n",
       " 23,\n",
       " 23,\n",
       " 22,\n",
       " 21,\n",
       " 21,\n",
       " 22,\n",
       " 22,\n",
       " 22,\n",
       " 22,\n",
       " 22,\n",
       " 23,\n",
       " 23,\n",
       " 21,\n",
       " 23,\n",
       " 23,\n",
       " 23,\n",
       " 23,\n",
       " 22,\n",
       " 23,\n",
       " 23,\n",
       " 23,\n",
       " 22,\n",
       " 23,\n",
       " 23,\n",
       " 23,\n",
       " 23,\n",
       " 23,\n",
       " 22,\n",
       " 23,\n",
       " 21,\n",
       " 22,\n",
       " 23,\n",
       " 22,\n",
       " 22,\n",
       " 21,\n",
       " 22,\n",
       " 23,\n",
       " 23,\n",
       " 21,\n",
       " 22,\n",
       " 23,\n",
       " 21,\n",
       " 23,\n",
       " 23,\n",
       " 21,\n",
       " 21,\n",
       " 23,\n",
       " 23,\n",
       " 23,\n",
       " 23,\n",
       " 21,\n",
       " 22,\n",
       " 23,\n",
       " 21,\n",
       " 23,\n",
       " 21,\n",
       " 22,\n",
       " 21,\n",
       " 21,\n",
       " 23,\n",
       " 21,\n",
       " 21,\n",
       " 23,\n",
       " 23,\n",
       " 22,\n",
       " 22,\n",
       " 23,\n",
       " 23,\n",
       " 23,\n",
       " 23,\n",
       " 22,\n",
       " 23,\n",
       " 22,\n",
       " 23,\n",
       " 22,\n",
       " 22,\n",
       " 23,\n",
       " 23,\n",
       " 22,\n",
       " 23,\n",
       " 21,\n",
       " 22,\n",
       " 23,\n",
       " 23,\n",
       " 22,\n",
       " 22,\n",
       " 22,\n",
       " 22,\n",
       " 22,\n",
       " 22,\n",
       " 22,\n",
       " 22,\n",
       " 23,\n",
       " 22,\n",
       " 23,\n",
       " 22,\n",
       " 23,\n",
       " 22,\n",
       " 23,\n",
       " 23,\n",
       " 23,\n",
       " 23,\n",
       " 22,\n",
       " 22,\n",
       " 22,\n",
       " 23,\n",
       " 22,\n",
       " 22,\n",
       " 22,\n",
       " 22,\n",
       " 23,\n",
       " 23,\n",
       " 22,\n",
       " 22,\n",
       " 21,\n",
       " 23,\n",
       " 22,\n",
       " 23,\n",
       " 21,\n",
       " 23,\n",
       " 23,\n",
       " 23,\n",
       " 22,\n",
       " 23,\n",
       " 22,\n",
       " 21,\n",
       " 21,\n",
       " 22,\n",
       " 22,\n",
       " 22,\n",
       " 21,\n",
       " 20,\n",
       " 22,\n",
       " 23,\n",
       " 22,\n",
       " 21,\n",
       " 22,\n",
       " 22,\n",
       " 23,\n",
       " 23,\n",
       " 22,\n",
       " 22,\n",
       " 22,\n",
       " 23,\n",
       " 22,\n",
       " 23,\n",
       " 22,\n",
       " 23,\n",
       " 23,\n",
       " 23,\n",
       " 23,\n",
       " 21,\n",
       " 21,\n",
       " 22,\n",
       " 22,\n",
       " 23,\n",
       " 23,\n",
       " 23,\n",
       " 23,\n",
       " 23,\n",
       " 22,\n",
       " 21,\n",
       " 20,\n",
       " 22,\n",
       " 23,\n",
       " 23,\n",
       " 23,\n",
       " 21,\n",
       " 22,\n",
       " 22,\n",
       " 22,\n",
       " 22,\n",
       " 22,\n",
       " 22,\n",
       " 22,\n",
       " 22,\n",
       " 21,\n",
       " 23,\n",
       " 21,\n",
       " 22,\n",
       " 23,\n",
       " 21,\n",
       " 22,\n",
       " 21,\n",
       " 23,\n",
       " 22,\n",
       " 23,\n",
       " 23,\n",
       " 23,\n",
       " 23,\n",
       " 21,\n",
       " 23,\n",
       " 23,\n",
       " 23,\n",
       " 23,\n",
       " 22,\n",
       " 23,\n",
       " 23,\n",
       " 22,\n",
       " 22,\n",
       " 23,\n",
       " 22,\n",
       " 22,\n",
       " 22,\n",
       " 23,\n",
       " 22,\n",
       " 21,\n",
       " 21,\n",
       " 22,\n",
       " 21,\n",
       " 22,\n",
       " 23,\n",
       " 21,\n",
       " 23,\n",
       " 22,\n",
       " 23,\n",
       " 23,\n",
       " 21,\n",
       " 23,\n",
       " 22,\n",
       " 22,\n",
       " 21,\n",
       " 23,\n",
       " 22,\n",
       " 21,\n",
       " 20,\n",
       " 23,\n",
       " 23,\n",
       " 22,\n",
       " 23,\n",
       " 23,\n",
       " 23,\n",
       " 23,\n",
       " 23,\n",
       " 23,\n",
       " 22,\n",
       " 22,\n",
       " 23,\n",
       " 23,\n",
       " 21,\n",
       " 23,\n",
       " 22,\n",
       " 21,\n",
       " 22,\n",
       " 22,\n",
       " 23,\n",
       " 23,\n",
       " 22,\n",
       " 21,\n",
       " 23,\n",
       " 22,\n",
       " 23,\n",
       " 20,\n",
       " 22,\n",
       " 22,\n",
       " 22,\n",
       " 22,\n",
       " 22,\n",
       " 23,\n",
       " 21,\n",
       " 22,\n",
       " 21,\n",
       " 22,\n",
       " 22,\n",
       " 23,\n",
       " 22,\n",
       " 23,\n",
       " 23,\n",
       " 23,\n",
       " 23,\n",
       " 21,\n",
       " 23,\n",
       " 22,\n",
       " 23,\n",
       " 22,\n",
       " 23,\n",
       " 22,\n",
       " 22,\n",
       " 22,\n",
       " 22,\n",
       " 22,\n",
       " 21,\n",
       " 22,\n",
       " 22,\n",
       " 23,\n",
       " 21,\n",
       " 21,\n",
       " 22,\n",
       " 22,\n",
       " 22,\n",
       " 22,\n",
       " 21,\n",
       " 23,\n",
       " 21,\n",
       " 22,\n",
       " 23,\n",
       " 23,\n",
       " 23,\n",
       " 22,\n",
       " 23,\n",
       " 23,\n",
       " 22,\n",
       " 22,\n",
       " 22,\n",
       " 22,\n",
       " 23,\n",
       " 20,\n",
       " 22,\n",
       " 22,\n",
       " 22,\n",
       " 22,\n",
       " 22,\n",
       " 22,\n",
       " 23,\n",
       " 22,\n",
       " 22,\n",
       " 22,\n",
       " 23,\n",
       " 22,\n",
       " 22,\n",
       " 22,\n",
       " 23,\n",
       " 23,\n",
       " 23,\n",
       " 23,\n",
       " 23,\n",
       " 23,\n",
       " 23,\n",
       " 23,\n",
       " 23,\n",
       " 23,\n",
       " 23,\n",
       " 23,\n",
       " 21,\n",
       " 23,\n",
       " 23,\n",
       " 22,\n",
       " 22,\n",
       " 23,\n",
       " 22,\n",
       " 22,\n",
       " 23,\n",
       " 22,\n",
       " 23,\n",
       " 22,\n",
       " 23,\n",
       " 23,\n",
       " 23,\n",
       " 22,\n",
       " 23,\n",
       " 23,\n",
       " 23,\n",
       " 23,\n",
       " 23,\n",
       " 23,\n",
       " 22,\n",
       " 23,\n",
       " 22,\n",
       " 21,\n",
       " 23,\n",
       " 22,\n",
       " 21,\n",
       " 23,\n",
       " 21,\n",
       " 23,\n",
       " 23,\n",
       " 22,\n",
       " 23,\n",
       " 22,\n",
       " 22,\n",
       " 23,\n",
       " 23,\n",
       " 22,\n",
       " 23,\n",
       " 23,\n",
       " 22,\n",
       " 23,\n",
       " 22,\n",
       " 23,\n",
       " 23,\n",
       " 23,\n",
       " 23,\n",
       " 23,\n",
       " 22,\n",
       " 22,\n",
       " 22,\n",
       " 22,\n",
       " 22,\n",
       " 22,\n",
       " 23,\n",
       " 21,\n",
       " 23,\n",
       " 22,\n",
       " 22,\n",
       " 23,\n",
       " 23,\n",
       " 22,\n",
       " 23,\n",
       " 23,\n",
       " 22,\n",
       " 22,\n",
       " 23,\n",
       " 22,\n",
       " 22,\n",
       " 23,\n",
       " 22,\n",
       " 22,\n",
       " 23,\n",
       " 22,\n",
       " 22,\n",
       " 21,\n",
       " 19,\n",
       " 23,\n",
       " 23,\n",
       " 21,\n",
       " 23,\n",
       " 22,\n",
       " 22,\n",
       " 21,\n",
       " 23,\n",
       " 22,\n",
       " 23,\n",
       " 23,\n",
       " 20,\n",
       " 22,\n",
       " 22,\n",
       " 23,\n",
       " 22,\n",
       " 22,\n",
       " 22,\n",
       " 22,\n",
       " 22,\n",
       " 22,\n",
       " 23,\n",
       " 23,\n",
       " 22,\n",
       " 23,\n",
       " 23,\n",
       " 23,\n",
       " 23,\n",
       " 22,\n",
       " 23,\n",
       " 21,\n",
       " 21,\n",
       " 22,\n",
       " 23,\n",
       " 22,\n",
       " 23,\n",
       " 23,\n",
       " 23,\n",
       " 23,\n",
       " 22,\n",
       " 23,\n",
       " 23,\n",
       " 20,\n",
       " 23,\n",
       " 22,\n",
       " 22,\n",
       " 22,\n",
       " 20,\n",
       " 23,\n",
       " 21,\n",
       " 22,\n",
       " 21,\n",
       " 22,\n",
       " 22,\n",
       " 23,\n",
       " 22,\n",
       " 23,\n",
       " 22,\n",
       " 22,\n",
       " 23,\n",
       " 22,\n",
       " 23,\n",
       " 23,\n",
       " 22,\n",
       " 23,\n",
       " 23,\n",
       " 22,\n",
       " 23,\n",
       " 22,\n",
       " 23,\n",
       " 21,\n",
       " 23,\n",
       " 22,\n",
       " 19,\n",
       " 23,\n",
       " 21,\n",
       " 23,\n",
       " 23,\n",
       " 22,\n",
       " 19,\n",
       " 23,\n",
       " 21,\n",
       " 22,\n",
       " 22,\n",
       " 23,\n",
       " 22,\n",
       " 22,\n",
       " 22,\n",
       " 21,\n",
       " 23,\n",
       " 21,\n",
       " 23,\n",
       " 23,\n",
       " 23,\n",
       " 22,\n",
       " 22,\n",
       " 23,\n",
       " 22,\n",
       " 23,\n",
       " 22,\n",
       " 23,\n",
       " 23,\n",
       " 22,\n",
       " 22,\n",
       " 21,\n",
       " 21,\n",
       " 21,\n",
       " 22,\n",
       " 22,\n",
       " 21,\n",
       " 23,\n",
       " 22,\n",
       " 22,\n",
       " 22,\n",
       " 23,\n",
       " 21,\n",
       " 22,\n",
       " 23,\n",
       " 23,\n",
       " 23,\n",
       " 23,\n",
       " 23,\n",
       " 23,\n",
       " 23,\n",
       " 22,\n",
       " 22,\n",
       " 22,\n",
       " 22,\n",
       " 23,\n",
       " 23,\n",
       " 22,\n",
       " 21,\n",
       " 21,\n",
       " 22,\n",
       " 23,\n",
       " 23,\n",
       " 22,\n",
       " 22,\n",
       " 23,\n",
       " 22,\n",
       " 20,\n",
       " 23,\n",
       " 22,\n",
       " 22,\n",
       " 23,\n",
       " 23,\n",
       " 22,\n",
       " 23,\n",
       " 23,\n",
       " 21,\n",
       " 23,\n",
       " 21,\n",
       " 23,\n",
       " 23,\n",
       " 22,\n",
       " 22,\n",
       " 22,\n",
       " 23,\n",
       " 22,\n",
       " 22,\n",
       " 22,\n",
       " 23,\n",
       " 23,\n",
       " 21,\n",
       " 22,\n",
       " 20,\n",
       " 22,\n",
       " 22,\n",
       " 23,\n",
       " 23,\n",
       " 22,\n",
       " 23,\n",
       " 23,\n",
       " 22,\n",
       " 23,\n",
       " 22,\n",
       " 21,\n",
       " 22,\n",
       " 22,\n",
       " 22,\n",
       " 22,\n",
       " 23,\n",
       " 23,\n",
       " 23,\n",
       " 21,\n",
       " 22,\n",
       " 23,\n",
       " 21,\n",
       " 23,\n",
       " 23,\n",
       " 23,\n",
       " 22,\n",
       " 22,\n",
       " 23,\n",
       " 23,\n",
       " 21,\n",
       " 21,\n",
       " 20,\n",
       " 21,\n",
       " 20,\n",
       " 22,\n",
       " 23,\n",
       " 22,\n",
       " 22,\n",
       " 22,\n",
       " 23,\n",
       " 22,\n",
       " 22,\n",
       " 23,\n",
       " 22,\n",
       " 23,\n",
       " 23,\n",
       " 23,\n",
       " 20,\n",
       " 23,\n",
       " 22,\n",
       " 23,\n",
       " 21,\n",
       " 23,\n",
       " 23,\n",
       " 23,\n",
       " 23,\n",
       " 22,\n",
       " 22,\n",
       " 22,\n",
       " 23,\n",
       " 23,\n",
       " 22,\n",
       " 22,\n",
       " 23,\n",
       " 22,\n",
       " 23,\n",
       " 23,\n",
       " 23,\n",
       " 23,\n",
       " 22,\n",
       " 23,\n",
       " 22,\n",
       " 22,\n",
       " 23,\n",
       " 21,\n",
       " 22,\n",
       " 23,\n",
       " 23,\n",
       " 23,\n",
       " 22,\n",
       " 22,\n",
       " 23,\n",
       " 22,\n",
       " 22,\n",
       " 22,\n",
       " 22,\n",
       " 23,\n",
       " 22,\n",
       " 22,\n",
       " 22,\n",
       " 23,\n",
       " 20,\n",
       " 22,\n",
       " 23,\n",
       " 23,\n",
       " 22,\n",
       " 22,\n",
       " 23,\n",
       " 22,\n",
       " 22,\n",
       " 23,\n",
       " 23,\n",
       " 21,\n",
       " 22,\n",
       " 23,\n",
       " 22,\n",
       " 22,\n",
       " 22,\n",
       " 22,\n",
       " 23,\n",
       " 22,\n",
       " 23,\n",
       " 21,\n",
       " 22,\n",
       " 22,\n",
       " 23,\n",
       " 23,\n",
       " 23,\n",
       " 21,\n",
       " 22,\n",
       " 21,\n",
       " 22,\n",
       " 23,\n",
       " 23,\n",
       " 22,\n",
       " 23,\n",
       " 22,\n",
       " 23,\n",
       " 23,\n",
       " 23,\n",
       " 23,\n",
       " 22,\n",
       " 23,\n",
       " 23,\n",
       " 23,\n",
       " 20,\n",
       " 23,\n",
       " 23,\n",
       " 23,\n",
       " 22,\n",
       " 22,\n",
       " 22,\n",
       " 23,\n",
       " 23,\n",
       " 23,\n",
       " 23,\n",
       " 23,\n",
       " 22,\n",
       " 23,\n",
       " 23,\n",
       " 23,\n",
       " 23,\n",
       " 23,\n",
       " 21,\n",
       " 22,\n",
       " 23,\n",
       " 21,\n",
       " 21,\n",
       " 23,\n",
       " 22,\n",
       " 23,\n",
       " 22,\n",
       " 22,\n",
       " 20,\n",
       " 21,\n",
       " 23,\n",
       " 21,\n",
       " 22,\n",
       " 22,\n",
       " 22,\n",
       " 22,\n",
       " 22,\n",
       " 22,\n",
       " 22,\n",
       " 22,\n",
       " 21,\n",
       " 22,\n",
       " 21,\n",
       " 22,\n",
       " 22,\n",
       " 22,\n",
       " 23,\n",
       " 23,\n",
       " 23,\n",
       " 23,\n",
       " 21,\n",
       " 23,\n",
       " 23,\n",
       " 23,\n",
       " 23,\n",
       " 23,\n",
       " 23,\n",
       " 23,\n",
       " 20,\n",
       " 23,\n",
       " 23,\n",
       " 23,\n",
       " 21,\n",
       " 22,\n",
       " 23,\n",
       " 22,\n",
       " 22,\n",
       " 22,\n",
       " 21,\n",
       " 21,\n",
       " 23,\n",
       " 23,\n",
       " 23,\n",
       " 21,\n",
       " 22,\n",
       " 21,\n",
       " 22,\n",
       " 22,\n",
       " 22,\n",
       " 22,\n",
       " 20,\n",
       " 23,\n",
       " 22,\n",
       " 21,\n",
       " 21,\n",
       " 22,\n",
       " 23,\n",
       " 23,\n",
       " 23,\n",
       " 22,\n",
       " 22,\n",
       " 20,\n",
       " 21,\n",
       " 23,\n",
       " 22,\n",
       " 21,\n",
       " 21,\n",
       " 23,\n",
       " 21,\n",
       " 23,\n",
       " 22,\n",
       " 20,\n",
       " 22,\n",
       " 23,\n",
       " 23,\n",
       " 23,\n",
       " 22,\n",
       " 22,\n",
       " 21,\n",
       " 22,\n",
       " 22,\n",
       " 23,\n",
       " 23,\n",
       " 21,\n",
       " 23,\n",
       " 21,\n",
       " 23,\n",
       " 22,\n",
       " 22,\n",
       " 23,\n",
       " 22,\n",
       " 22,\n",
       " 23,\n",
       " 22,\n",
       " 22,\n",
       " 22,\n",
       " 22,\n",
       " 21,\n",
       " 23,\n",
       " 23,\n",
       " 22,\n",
       " 21,\n",
       " 20,\n",
       " 23,\n",
       " 22,\n",
       " 23,\n",
       " 22,\n",
       " 23,\n",
       " 23,\n",
       " 23,\n",
       " 21,\n",
       " 22,\n",
       " 21,\n",
       " 23,\n",
       " 21,\n",
       " 22,\n",
       " 22,\n",
       " 22,\n",
       " 22,\n",
       " 21,\n",
       " 21,\n",
       " 23,\n",
       " 23,\n",
       " 22,\n",
       " 23,\n",
       " 23,\n",
       " 22,\n",
       " 23,\n",
       " 23,\n",
       " 23,\n",
       " 23,\n",
       " 23,\n",
       " 23,\n",
       " 23,\n",
       " 23,\n",
       " 22,\n",
       " 23,\n",
       " 23,\n",
       " 23,\n",
       " 22,\n",
       " 23,\n",
       " 22,\n",
       " 23,\n",
       " 22,\n",
       " 22,\n",
       " 22,\n",
       " ...]"
      ]
     },
     "execution_count": 171,
     "metadata": {},
     "output_type": "execute_result"
    }
   ],
   "source": [
    "[np.unique(row).size for row in birthdays]"
   ]
  },
  {
   "cell_type": "code",
   "execution_count": 178,
   "metadata": {},
   "outputs": [
    {
     "data": {
      "text/plain": [
       "0.6749"
      ]
     },
     "execution_count": 178,
     "metadata": {},
     "output_type": "execute_result"
    }
   ],
   "source": [
    "n_sims = 10_000\n",
    "n_people = 29\n",
    "\n",
    "birthdays = np.random.choice(range(365), (n_sims, n_people))\n",
    "\n",
    "n_unique_birthdays = np.array([np.unique(row).size for row in birthdays])\n",
    "\n",
    "(n_unique_birthdays < n_people).mean()"
   ]
  },
  {
   "cell_type": "code",
   "execution_count": 185,
   "metadata": {},
   "outputs": [
    {
     "data": {
      "text/plain": [
       "0     261\n",
       "1     127\n",
       "2     138\n",
       "3      20\n",
       "4     299\n",
       "5     226\n",
       "6      26\n",
       "7     248\n",
       "8     279\n",
       "9     155\n",
       "10    210\n",
       "11    341\n",
       "12    313\n",
       "13     74\n",
       "14    182\n",
       "15    330\n",
       "16    114\n",
       "17     12\n",
       "18    276\n",
       "19      3\n",
       "20    137\n",
       "21    127\n",
       "22    280\n",
       "23    286\n",
       "24    262\n",
       "25    230\n",
       "26    309\n",
       "27     52\n",
       "28    120\n",
       "Name: 0, dtype: int64"
      ]
     },
     "execution_count": 185,
     "metadata": {},
     "output_type": "execute_result"
    }
   ],
   "source": [
    "s = pd.DataFrame(birthdays).iloc[0, :]\n",
    "s"
   ]
  },
  {
   "cell_type": "code",
   "execution_count": null,
   "metadata": {},
   "outputs": [],
   "source": []
  },
  {
   "cell_type": "code",
   "execution_count": 186,
   "metadata": {},
   "outputs": [
    {
     "data": {
      "text/plain": [
       "28"
      ]
     },
     "execution_count": 186,
     "metadata": {},
     "output_type": "execute_result"
    }
   ],
   "source": [
    "s.nunique()"
   ]
  },
  {
   "cell_type": "code",
   "execution_count": 190,
   "metadata": {},
   "outputs": [
    {
     "data": {
      "text/plain": [
       "0.6749"
      ]
     },
     "execution_count": 190,
     "metadata": {},
     "output_type": "execute_result"
    }
   ],
   "source": [
    "(pd.DataFrame(birthdays).apply(lambda s: s.nunique(), axis=1) < 29).mean()"
   ]
  },
  {
   "cell_type": "code",
   "execution_count": 192,
   "metadata": {},
   "outputs": [
    {
     "data": {
      "text/plain": [
       "0.6749"
      ]
     },
     "execution_count": 192,
     "metadata": {},
     "output_type": "execute_result"
    }
   ],
   "source": [
    "(pd.DataFrame(birthdays).nunique(axis=1) < 29).mean()"
   ]
  }
 ],
 "metadata": {
  "kernelspec": {
   "display_name": "Python 3",
   "language": "python",
   "name": "python3"
  },
  "language_info": {
   "codemirror_mode": {
    "name": "ipython",
    "version": 3
   },
   "file_extension": ".py",
   "mimetype": "text/x-python",
   "name": "python",
   "nbconvert_exporter": "python",
   "pygments_lexer": "ipython3",
   "version": "3.7.3"
  }
 },
 "nbformat": 4,
 "nbformat_minor": 2
}
