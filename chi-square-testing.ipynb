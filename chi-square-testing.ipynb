{
 "cells": [
  {
   "cell_type": "code",
   "execution_count": 16,
   "metadata": {},
   "outputs": [],
   "source": [
    "import scipy.stats as stats\n",
    "import pandas as pd\n",
    "\n",
    "df = pd.read_csv('kickstarter.csv')\n",
    "df = df[df.status.isin(['failed', 'successful'])]\n",
    "df['success'] = df.status == 'successful'"
   ]
  },
  {
   "cell_type": "code",
   "execution_count": 23,
   "metadata": {},
   "outputs": [
    {
     "data": {
      "text/html": [
       "<div>\n",
       "<style scoped>\n",
       "    .dataframe tbody tr th:only-of-type {\n",
       "        vertical-align: middle;\n",
       "    }\n",
       "\n",
       "    .dataframe tbody tr th {\n",
       "        vertical-align: top;\n",
       "    }\n",
       "\n",
       "    .dataframe thead th {\n",
       "        text-align: right;\n",
       "    }\n",
       "</style>\n",
       "<table border=\"1\" class=\"dataframe\">\n",
       "  <thead>\n",
       "    <tr style=\"text-align: right;\">\n",
       "      <th>category</th>\n",
       "      <th>Art</th>\n",
       "      <th>Comics</th>\n",
       "      <th>Dance</th>\n",
       "      <th>Design</th>\n",
       "      <th>Fashion</th>\n",
       "      <th>Film &amp; Video</th>\n",
       "      <th>Film &amp;amp; Video</th>\n",
       "      <th>Food</th>\n",
       "      <th>Games</th>\n",
       "      <th>Music</th>\n",
       "      <th>Photography</th>\n",
       "      <th>Publishing</th>\n",
       "      <th>Technology</th>\n",
       "      <th>Theater</th>\n",
       "    </tr>\n",
       "    <tr>\n",
       "      <th>status</th>\n",
       "      <th></th>\n",
       "      <th></th>\n",
       "      <th></th>\n",
       "      <th></th>\n",
       "      <th></th>\n",
       "      <th></th>\n",
       "      <th></th>\n",
       "      <th></th>\n",
       "      <th></th>\n",
       "      <th></th>\n",
       "      <th></th>\n",
       "      <th></th>\n",
       "      <th></th>\n",
       "      <th></th>\n",
       "    </tr>\n",
       "  </thead>\n",
       "  <tbody>\n",
       "    <tr>\n",
       "      <td>failed</td>\n",
       "      <td>1585</td>\n",
       "      <td>448</td>\n",
       "      <td>180</td>\n",
       "      <td>837</td>\n",
       "      <td>684</td>\n",
       "      <td>210</td>\n",
       "      <td>5962</td>\n",
       "      <td>643</td>\n",
       "      <td>832</td>\n",
       "      <td>3261</td>\n",
       "      <td>742</td>\n",
       "      <td>2484</td>\n",
       "      <td>448</td>\n",
       "      <td>680</td>\n",
       "    </tr>\n",
       "    <tr>\n",
       "      <td>successful</td>\n",
       "      <td>2106</td>\n",
       "      <td>520</td>\n",
       "      <td>527</td>\n",
       "      <td>729</td>\n",
       "      <td>335</td>\n",
       "      <td>246</td>\n",
       "      <td>6177</td>\n",
       "      <td>655</td>\n",
       "      <td>635</td>\n",
       "      <td>6792</td>\n",
       "      <td>645</td>\n",
       "      <td>1671</td>\n",
       "      <td>289</td>\n",
       "      <td>1642</td>\n",
       "    </tr>\n",
       "  </tbody>\n",
       "</table>\n",
       "</div>"
      ],
      "text/plain": [
       "category     Art  Comics  Dance  Design  Fashion  Film & Video  \\\n",
       "status                                                           \n",
       "failed      1585     448    180     837      684           210   \n",
       "successful  2106     520    527     729      335           246   \n",
       "\n",
       "category    Film &amp; Video  Food  Games  Music  Photography  Publishing  \\\n",
       "status                                                                      \n",
       "failed                  5962   643    832   3261          742        2484   \n",
       "successful              6177   655    635   6792          645        1671   \n",
       "\n",
       "category    Technology  Theater  \n",
       "status                           \n",
       "failed             448      680  \n",
       "successful         289     1642  "
      ]
     },
     "execution_count": 23,
     "metadata": {},
     "output_type": "execute_result"
    }
   ],
   "source": [
    "pd.crosstab(df.status, df.category)"
   ]
  },
  {
   "cell_type": "code",
   "execution_count": 28,
   "metadata": {},
   "outputs": [
    {
     "data": {
      "text/plain": [
       "1889.1345627766664"
      ]
     },
     "execution_count": 28,
     "metadata": {},
     "output_type": "execute_result"
    }
   ],
   "source": [
    "ctab = pd.crosstab(df.status, df.category)\n",
    "chi2_stat, p, degf, (observed, expected) = stats.chi2_contingency(ctab)\n",
    "\n",
    "chi2_stat"
   ]
  },
  {
   "cell_type": "code",
   "execution_count": 29,
   "metadata": {},
   "outputs": [
    {
     "data": {
      "text/plain": [
       "0.0"
      ]
     },
     "execution_count": 29,
     "metadata": {},
     "output_type": "execute_result"
    }
   ],
   "source": [
    "p"
   ]
  },
  {
   "cell_type": "code",
   "execution_count": 25,
   "metadata": {},
   "outputs": [
    {
     "data": {
      "text/plain": [
       "category\n",
       "Fashion             0.328754\n",
       "Technology          0.392130\n",
       "Publishing          0.402166\n",
       "Games               0.432856\n",
       "Photography         0.465032\n",
       "Design              0.465517\n",
       "Food                0.504622\n",
       "Film &amp; Video    0.508856\n",
       "Comics              0.537190\n",
       "Film & Video        0.539474\n",
       "Art                 0.570577\n",
       "Music               0.675619\n",
       "Theater             0.707149\n",
       "Dance               0.745403\n",
       "Name: success, dtype: float64"
      ]
     },
     "execution_count": 25,
     "metadata": {},
     "output_type": "execute_result"
    }
   ],
   "source": [
    "df.groupby('category').success.mean().sort_values()"
   ]
  }
 ],
 "metadata": {
  "kernelspec": {
   "display_name": "Python 3",
   "language": "python",
   "name": "python3"
  },
  "language_info": {
   "codemirror_mode": {
    "name": "ipython",
    "version": 3
   },
   "file_extension": ".py",
   "mimetype": "text/x-python",
   "name": "python",
   "nbconvert_exporter": "python",
   "pygments_lexer": "ipython3",
   "version": "3.7.3"
  }
 },
 "nbformat": 4,
 "nbformat_minor": 2
}
